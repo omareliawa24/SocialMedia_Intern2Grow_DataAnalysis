{
 "cells": [
  {
   "cell_type": "code",
   "execution_count": 1,
   "id": "46e4fe38-ecec-4e0b-99ca-608615abf800",
   "metadata": {},
   "outputs": [],
   "source": [
    "import pandas as pd\n",
    "import numpy as np\n",
    "import matplotlib.pyplot as plt \n",
    "import seaborn as sns\n",
    "import datetime\n",
    "import math\n",
    "from decimal import Decimal\n"
   ]
  },
  {
   "cell_type": "code",
   "execution_count": 2,
   "id": "af1872a8-ca58-4d92-b775-16c43b43c08f",
   "metadata": {},
   "outputs": [
    {
     "data": {
      "text/html": [
       "<div>\n",
       "<style scoped>\n",
       "    .dataframe tbody tr th:only-of-type {\n",
       "        vertical-align: middle;\n",
       "    }\n",
       "\n",
       "    .dataframe tbody tr th {\n",
       "        vertical-align: top;\n",
       "    }\n",
       "\n",
       "    .dataframe thead th {\n",
       "        text-align: right;\n",
       "    }\n",
       "</style>\n",
       "<table border=\"1\" class=\"dataframe\">\n",
       "  <thead>\n",
       "    <tr style=\"text-align: right;\">\n",
       "      <th></th>\n",
       "      <th>date</th>\n",
       "      <th>platform</th>\n",
       "      <th>post_type</th>\n",
       "      <th>likes</th>\n",
       "      <th>shares</th>\n",
       "      <th>comments</th>\n",
       "      <th>views</th>\n",
       "    </tr>\n",
       "  </thead>\n",
       "  <tbody>\n",
       "    <tr>\n",
       "      <th>0</th>\n",
       "      <td>2023-05-24</td>\n",
       "      <td>Twitter</td>\n",
       "      <td>image</td>\n",
       "      <td>868.0</td>\n",
       "      <td>238.0</td>\n",
       "      <td>352.0</td>\n",
       "      <td>8836.0</td>\n",
       "    </tr>\n",
       "    <tr>\n",
       "      <th>1</th>\n",
       "      <td>2023-02-23</td>\n",
       "      <td>Twitter</td>\n",
       "      <td>image</td>\n",
       "      <td>944.0</td>\n",
       "      <td>610.0</td>\n",
       "      <td>146.0</td>\n",
       "      <td>5554.0</td>\n",
       "    </tr>\n",
       "    <tr>\n",
       "      <th>2</th>\n",
       "      <td>2023-03-18</td>\n",
       "      <td>Instagram</td>\n",
       "      <td>image</td>\n",
       "      <td>1067.0</td>\n",
       "      <td>858.0</td>\n",
       "      <td>365.0</td>\n",
       "      <td>4018.0</td>\n",
       "    </tr>\n",
       "    <tr>\n",
       "      <th>3</th>\n",
       "      <td>2023-06-12</td>\n",
       "      <td>Twitter</td>\n",
       "      <td>text</td>\n",
       "      <td>780.0</td>\n",
       "      <td>427.0</td>\n",
       "      <td>100.0</td>\n",
       "      <td>6999.0</td>\n",
       "    </tr>\n",
       "    <tr>\n",
       "      <th>4</th>\n",
       "      <td>2023-02-03</td>\n",
       "      <td>Instagram</td>\n",
       "      <td>text</td>\n",
       "      <td>836.0</td>\n",
       "      <td>893.0</td>\n",
       "      <td>443.0</td>\n",
       "      <td>5802.0</td>\n",
       "    </tr>\n",
       "    <tr>\n",
       "      <th>...</th>\n",
       "      <td>...</td>\n",
       "      <td>...</td>\n",
       "      <td>...</td>\n",
       "      <td>...</td>\n",
       "      <td>...</td>\n",
       "      <td>...</td>\n",
       "      <td>...</td>\n",
       "    </tr>\n",
       "    <tr>\n",
       "      <th>1995</th>\n",
       "      <td>2023-01-15</td>\n",
       "      <td>Facebook</td>\n",
       "      <td>video</td>\n",
       "      <td>2039.0</td>\n",
       "      <td>523.0</td>\n",
       "      <td>371.0</td>\n",
       "      <td>4780.0</td>\n",
       "    </tr>\n",
       "    <tr>\n",
       "      <th>1996</th>\n",
       "      <td>2022-11-13</td>\n",
       "      <td>Twitter</td>\n",
       "      <td>image</td>\n",
       "      <td>1652.0</td>\n",
       "      <td>891.0</td>\n",
       "      <td>410.0</td>\n",
       "      <td>8741.0</td>\n",
       "    </tr>\n",
       "    <tr>\n",
       "      <th>1997</th>\n",
       "      <td>2023-09-18</td>\n",
       "      <td>Twitter</td>\n",
       "      <td>video</td>\n",
       "      <td>528.0</td>\n",
       "      <td>207.0</td>\n",
       "      <td>341.0</td>\n",
       "      <td>6588.0</td>\n",
       "    </tr>\n",
       "    <tr>\n",
       "      <th>1998</th>\n",
       "      <td>2023-04-23</td>\n",
       "      <td>Facebook</td>\n",
       "      <td>video</td>\n",
       "      <td>1288.0</td>\n",
       "      <td>893.0</td>\n",
       "      <td>328.0</td>\n",
       "      <td>8349.0</td>\n",
       "    </tr>\n",
       "    <tr>\n",
       "      <th>1999</th>\n",
       "      <td>2023-08-13</td>\n",
       "      <td>Twitter</td>\n",
       "      <td>image</td>\n",
       "      <td>835.0</td>\n",
       "      <td>532.0</td>\n",
       "      <td>424.0</td>\n",
       "      <td>9236.0</td>\n",
       "    </tr>\n",
       "  </tbody>\n",
       "</table>\n",
       "<p>2000 rows × 7 columns</p>\n",
       "</div>"
      ],
      "text/plain": [
       "            date   platform post_type   likes  shares  comments   views\n",
       "0     2023-05-24    Twitter     image   868.0   238.0     352.0  8836.0\n",
       "1     2023-02-23    Twitter     image   944.0   610.0     146.0  5554.0\n",
       "2     2023-03-18  Instagram     image  1067.0   858.0     365.0  4018.0\n",
       "3     2023-06-12    Twitter      text   780.0   427.0     100.0  6999.0\n",
       "4     2023-02-03  Instagram      text   836.0   893.0     443.0  5802.0\n",
       "...          ...        ...       ...     ...     ...       ...     ...\n",
       "1995  2023-01-15   Facebook     video  2039.0   523.0     371.0  4780.0\n",
       "1996  2022-11-13    Twitter     image  1652.0   891.0     410.0  8741.0\n",
       "1997  2023-09-18    Twitter     video   528.0   207.0     341.0  6588.0\n",
       "1998  2023-04-23   Facebook     video  1288.0   893.0     328.0  8349.0\n",
       "1999  2023-08-13    Twitter     image   835.0   532.0     424.0  9236.0\n",
       "\n",
       "[2000 rows x 7 columns]"
      ]
     },
     "execution_count": 2,
     "metadata": {},
     "output_type": "execute_result"
    }
   ],
   "source": [
    "social_media = pd.read_csv(r\"social_media_data_intern2grow.csv\")\n",
    "social_media"
   ]
  },
  {
   "cell_type": "code",
   "execution_count": 3,
   "id": "3da88102-3248-4192-85e2-ce70d6e6943a",
   "metadata": {},
   "outputs": [],
   "source": [
    "DataFrame = pd.DataFrame(social_media)\n"
   ]
  },
  {
   "cell_type": "code",
   "execution_count": 4,
   "id": "49bc3429-df09-4718-b4c5-2739d159cdad",
   "metadata": {},
   "outputs": [
    {
     "data": {
      "text/html": [
       "<div>\n",
       "<style scoped>\n",
       "    .dataframe tbody tr th:only-of-type {\n",
       "        vertical-align: middle;\n",
       "    }\n",
       "\n",
       "    .dataframe tbody tr th {\n",
       "        vertical-align: top;\n",
       "    }\n",
       "\n",
       "    .dataframe thead th {\n",
       "        text-align: right;\n",
       "    }\n",
       "</style>\n",
       "<table border=\"1\" class=\"dataframe\">\n",
       "  <thead>\n",
       "    <tr style=\"text-align: right;\">\n",
       "      <th></th>\n",
       "      <th>likes</th>\n",
       "      <th>shares</th>\n",
       "      <th>comments</th>\n",
       "      <th>views</th>\n",
       "    </tr>\n",
       "  </thead>\n",
       "  <tbody>\n",
       "    <tr>\n",
       "      <th>count</th>\n",
       "      <td>1992.000000</td>\n",
       "      <td>1992.000000</td>\n",
       "      <td>1992.000000</td>\n",
       "      <td>1990.000000</td>\n",
       "    </tr>\n",
       "    <tr>\n",
       "      <th>mean</th>\n",
       "      <td>1289.795181</td>\n",
       "      <td>497.286647</td>\n",
       "      <td>305.847892</td>\n",
       "      <td>6966.834673</td>\n",
       "    </tr>\n",
       "    <tr>\n",
       "      <th>std</th>\n",
       "      <td>525.123426</td>\n",
       "      <td>229.809511</td>\n",
       "      <td>114.761598</td>\n",
       "      <td>1724.795879</td>\n",
       "    </tr>\n",
       "    <tr>\n",
       "      <th>min</th>\n",
       "      <td>400.000000</td>\n",
       "      <td>100.000000</td>\n",
       "      <td>100.000000</td>\n",
       "      <td>4000.000000</td>\n",
       "    </tr>\n",
       "    <tr>\n",
       "      <th>25%</th>\n",
       "      <td>820.000000</td>\n",
       "      <td>300.000000</td>\n",
       "      <td>206.000000</td>\n",
       "      <td>5507.000000</td>\n",
       "    </tr>\n",
       "    <tr>\n",
       "      <th>50%</th>\n",
       "      <td>1292.000000</td>\n",
       "      <td>491.000000</td>\n",
       "      <td>310.500000</td>\n",
       "      <td>6947.000000</td>\n",
       "    </tr>\n",
       "    <tr>\n",
       "      <th>75%</th>\n",
       "      <td>1753.250000</td>\n",
       "      <td>688.000000</td>\n",
       "      <td>407.000000</td>\n",
       "      <td>8398.250000</td>\n",
       "    </tr>\n",
       "    <tr>\n",
       "      <th>max</th>\n",
       "      <td>2200.000000</td>\n",
       "      <td>900.000000</td>\n",
       "      <td>500.000000</td>\n",
       "      <td>9998.000000</td>\n",
       "    </tr>\n",
       "  </tbody>\n",
       "</table>\n",
       "</div>"
      ],
      "text/plain": [
       "             likes       shares     comments        views\n",
       "count  1992.000000  1992.000000  1992.000000  1990.000000\n",
       "mean   1289.795181   497.286647   305.847892  6966.834673\n",
       "std     525.123426   229.809511   114.761598  1724.795879\n",
       "min     400.000000   100.000000   100.000000  4000.000000\n",
       "25%     820.000000   300.000000   206.000000  5507.000000\n",
       "50%    1292.000000   491.000000   310.500000  6947.000000\n",
       "75%    1753.250000   688.000000   407.000000  8398.250000\n",
       "max    2200.000000   900.000000   500.000000  9998.000000"
      ]
     },
     "execution_count": 4,
     "metadata": {},
     "output_type": "execute_result"
    }
   ],
   "source": [
    "DataFrame.describe()\n"
   ]
  },
  {
   "cell_type": "code",
   "execution_count": 7,
   "id": "a99f9310-182a-45cf-b477-ef2e5a179b9e",
   "metadata": {},
   "outputs": [
    {
     "data": {
      "text/plain": [
       "date         0\n",
       "platform     0\n",
       "post_type    0\n",
       "likes        0\n",
       "shares       0\n",
       "comments     0\n",
       "views        0\n",
       "dtype: int64"
      ]
     },
     "execution_count": 7,
     "metadata": {},
     "output_type": "execute_result"
    }
   ],
   "source": [
    "DataFrame.isnull().sum()\n"
   ]
  },
  {
   "cell_type": "code",
   "execution_count": 6,
   "id": "e83d910c-a109-4cfa-9942-71a3f1c76bec",
   "metadata": {},
   "outputs": [],
   "source": [
    "DataFrame=DataFrame.fillna('')"
   ]
  },
  {
   "cell_type": "code",
   "execution_count": 8,
   "id": "09fd26f6-d79a-45d9-9ace-5a7174518032",
   "metadata": {},
   "outputs": [
    {
     "data": {
      "text/plain": [
       "date          365\n",
       "platform        4\n",
       "post_type       3\n",
       "likes        1204\n",
       "shares        729\n",
       "comments      400\n",
       "views        1688\n",
       "dtype: int64"
      ]
     },
     "execution_count": 8,
     "metadata": {},
     "output_type": "execute_result"
    }
   ],
   "source": [
    "DataFrame.nunique()\n"
   ]
  },
  {
   "cell_type": "code",
   "execution_count": 9,
   "id": "a70d15d5-4cc4-438b-a29c-ab6e1cf403f0",
   "metadata": {},
   "outputs": [
    {
     "name": "stdout",
     "output_type": "stream",
     "text": [
      "<class 'pandas.core.frame.DataFrame'>\n",
      "RangeIndex: 2000 entries, 0 to 1999\n",
      "Data columns (total 7 columns):\n",
      " #   Column     Non-Null Count  Dtype         \n",
      "---  ------     --------------  -----         \n",
      " 0   date       2000 non-null   datetime64[ns]\n",
      " 1   platform   2000 non-null   object        \n",
      " 2   post_type  2000 non-null   object        \n",
      " 3   likes      2000 non-null   object        \n",
      " 4   shares     2000 non-null   object        \n",
      " 5   comments   2000 non-null   object        \n",
      " 6   views      2000 non-null   object        \n",
      "dtypes: datetime64[ns](1), object(6)\n",
      "memory usage: 109.5+ KB\n"
     ]
    }
   ],
   "source": [
    "DataFrame['date'] = pd.to_datetime(DataFrame['date'])\n",
    "DataFrame.info()"
   ]
  },
  {
   "cell_type": "code",
   "execution_count": 10,
   "id": "04c15bab-83e2-4304-9821-578e9ad2c7cd",
   "metadata": {},
   "outputs": [
    {
     "data": {
      "text/html": [
       "<div>\n",
       "<style scoped>\n",
       "    .dataframe tbody tr th:only-of-type {\n",
       "        vertical-align: middle;\n",
       "    }\n",
       "\n",
       "    .dataframe tbody tr th {\n",
       "        vertical-align: top;\n",
       "    }\n",
       "\n",
       "    .dataframe thead th {\n",
       "        text-align: right;\n",
       "    }\n",
       "</style>\n",
       "<table border=\"1\" class=\"dataframe\">\n",
       "  <thead>\n",
       "    <tr style=\"text-align: right;\">\n",
       "      <th></th>\n",
       "      <th>date</th>\n",
       "      <th>platform</th>\n",
       "      <th>post_type</th>\n",
       "      <th>likes</th>\n",
       "      <th>shares</th>\n",
       "      <th>comments</th>\n",
       "      <th>views</th>\n",
       "    </tr>\n",
       "  </thead>\n",
       "  <tbody>\n",
       "    <tr>\n",
       "      <th>0</th>\n",
       "      <td>2023-05-24</td>\n",
       "      <td>Twitter</td>\n",
       "      <td>image</td>\n",
       "      <td>868.0</td>\n",
       "      <td>238.0</td>\n",
       "      <td>352.0</td>\n",
       "      <td>8836.0</td>\n",
       "    </tr>\n",
       "    <tr>\n",
       "      <th>1</th>\n",
       "      <td>2023-02-23</td>\n",
       "      <td>Twitter</td>\n",
       "      <td>image</td>\n",
       "      <td>944.0</td>\n",
       "      <td>610.0</td>\n",
       "      <td>146.0</td>\n",
       "      <td>5554.0</td>\n",
       "    </tr>\n",
       "    <tr>\n",
       "      <th>2</th>\n",
       "      <td>2023-03-18</td>\n",
       "      <td>Instagram</td>\n",
       "      <td>image</td>\n",
       "      <td>1067.0</td>\n",
       "      <td>858.0</td>\n",
       "      <td>365.0</td>\n",
       "      <td>4018.0</td>\n",
       "    </tr>\n",
       "    <tr>\n",
       "      <th>3</th>\n",
       "      <td>2023-06-12</td>\n",
       "      <td>Twitter</td>\n",
       "      <td>text</td>\n",
       "      <td>780.0</td>\n",
       "      <td>427.0</td>\n",
       "      <td>100.0</td>\n",
       "      <td>6999.0</td>\n",
       "    </tr>\n",
       "    <tr>\n",
       "      <th>4</th>\n",
       "      <td>2023-02-03</td>\n",
       "      <td>Instagram</td>\n",
       "      <td>text</td>\n",
       "      <td>836.0</td>\n",
       "      <td>893.0</td>\n",
       "      <td>443.0</td>\n",
       "      <td>5802.0</td>\n",
       "    </tr>\n",
       "    <tr>\n",
       "      <th>...</th>\n",
       "      <td>...</td>\n",
       "      <td>...</td>\n",
       "      <td>...</td>\n",
       "      <td>...</td>\n",
       "      <td>...</td>\n",
       "      <td>...</td>\n",
       "      <td>...</td>\n",
       "    </tr>\n",
       "    <tr>\n",
       "      <th>1995</th>\n",
       "      <td>2023-01-15</td>\n",
       "      <td>Facebook</td>\n",
       "      <td>video</td>\n",
       "      <td>2039.0</td>\n",
       "      <td>523.0</td>\n",
       "      <td>371.0</td>\n",
       "      <td>4780.0</td>\n",
       "    </tr>\n",
       "    <tr>\n",
       "      <th>1996</th>\n",
       "      <td>2022-11-13</td>\n",
       "      <td>Twitter</td>\n",
       "      <td>image</td>\n",
       "      <td>1652.0</td>\n",
       "      <td>891.0</td>\n",
       "      <td>410.0</td>\n",
       "      <td>8741.0</td>\n",
       "    </tr>\n",
       "    <tr>\n",
       "      <th>1997</th>\n",
       "      <td>2023-09-18</td>\n",
       "      <td>Twitter</td>\n",
       "      <td>video</td>\n",
       "      <td>528.0</td>\n",
       "      <td>207.0</td>\n",
       "      <td>341.0</td>\n",
       "      <td>6588.0</td>\n",
       "    </tr>\n",
       "    <tr>\n",
       "      <th>1998</th>\n",
       "      <td>2023-04-23</td>\n",
       "      <td>Facebook</td>\n",
       "      <td>video</td>\n",
       "      <td>1288.0</td>\n",
       "      <td>893.0</td>\n",
       "      <td>328.0</td>\n",
       "      <td>8349.0</td>\n",
       "    </tr>\n",
       "    <tr>\n",
       "      <th>1999</th>\n",
       "      <td>2023-08-13</td>\n",
       "      <td>Twitter</td>\n",
       "      <td>image</td>\n",
       "      <td>835.0</td>\n",
       "      <td>532.0</td>\n",
       "      <td>424.0</td>\n",
       "      <td>9236.0</td>\n",
       "    </tr>\n",
       "  </tbody>\n",
       "</table>\n",
       "<p>2000 rows × 7 columns</p>\n",
       "</div>"
      ],
      "text/plain": [
       "           date   platform post_type   likes shares comments   views\n",
       "0    2023-05-24    Twitter     image   868.0  238.0    352.0  8836.0\n",
       "1    2023-02-23    Twitter     image   944.0  610.0    146.0  5554.0\n",
       "2    2023-03-18  Instagram     image  1067.0  858.0    365.0  4018.0\n",
       "3    2023-06-12    Twitter      text   780.0  427.0    100.0  6999.0\n",
       "4    2023-02-03  Instagram      text   836.0  893.0    443.0  5802.0\n",
       "...         ...        ...       ...     ...    ...      ...     ...\n",
       "1995 2023-01-15   Facebook     video  2039.0  523.0    371.0  4780.0\n",
       "1996 2022-11-13    Twitter     image  1652.0  891.0    410.0  8741.0\n",
       "1997 2023-09-18    Twitter     video   528.0  207.0    341.0  6588.0\n",
       "1998 2023-04-23   Facebook     video  1288.0  893.0    328.0  8349.0\n",
       "1999 2023-08-13    Twitter     image   835.0  532.0    424.0  9236.0\n",
       "\n",
       "[2000 rows x 7 columns]"
      ]
     },
     "execution_count": 10,
     "metadata": {},
     "output_type": "execute_result"
    }
   ],
   "source": [
    "DataFrame.dropna()"
   ]
  },
  {
   "cell_type": "code",
   "execution_count": 11,
   "id": "79a6209d-7d7b-4434-9fa7-9560c370f8a5",
   "metadata": {},
   "outputs": [
    {
     "data": {
      "text/plain": [
       "0"
      ]
     },
     "execution_count": 11,
     "metadata": {},
     "output_type": "execute_result"
    }
   ],
   "source": [
    "DataFrame.duplicated().sum()"
   ]
  },
  {
   "cell_type": "code",
   "execution_count": 12,
   "id": "db0ac175-a155-4022-8f6a-c7d97df4ca96",
   "metadata": {},
   "outputs": [
    {
     "data": {
      "text/html": [
       "<div>\n",
       "<style scoped>\n",
       "    .dataframe tbody tr th:only-of-type {\n",
       "        vertical-align: middle;\n",
       "    }\n",
       "\n",
       "    .dataframe tbody tr th {\n",
       "        vertical-align: top;\n",
       "    }\n",
       "\n",
       "    .dataframe thead th {\n",
       "        text-align: right;\n",
       "    }\n",
       "</style>\n",
       "<table border=\"1\" class=\"dataframe\">\n",
       "  <thead>\n",
       "    <tr style=\"text-align: right;\">\n",
       "      <th></th>\n",
       "      <th>count</th>\n",
       "      <th>mean</th>\n",
       "      <th>min</th>\n",
       "      <th>25%</th>\n",
       "      <th>50%</th>\n",
       "      <th>75%</th>\n",
       "      <th>max</th>\n",
       "    </tr>\n",
       "  </thead>\n",
       "  <tbody>\n",
       "    <tr>\n",
       "      <th>date</th>\n",
       "      <td>2000</td>\n",
       "      <td>2023-04-12 02:11:02.400000</td>\n",
       "      <td>2022-10-13 00:00:00</td>\n",
       "      <td>2023-01-08 00:00:00</td>\n",
       "      <td>2023-04-07 00:00:00</td>\n",
       "      <td>2023-07-14 00:00:00</td>\n",
       "      <td>2023-10-13 00:00:00</td>\n",
       "    </tr>\n",
       "  </tbody>\n",
       "</table>\n",
       "</div>"
      ],
      "text/plain": [
       "     count                        mean                  min  \\\n",
       "date  2000  2023-04-12 02:11:02.400000  2022-10-13 00:00:00   \n",
       "\n",
       "                      25%                  50%                  75%  \\\n",
       "date  2023-01-08 00:00:00  2023-04-07 00:00:00  2023-07-14 00:00:00   \n",
       "\n",
       "                      max  \n",
       "date  2023-10-13 00:00:00  "
      ]
     },
     "execution_count": 12,
     "metadata": {},
     "output_type": "execute_result"
    }
   ],
   "source": [
    "DataFrame.describe().T"
   ]
  },
  {
   "cell_type": "code",
   "execution_count": 15,
   "id": "70e1a3af-ca22-4b25-8784-682d36cb3da0",
   "metadata": {},
   "outputs": [
    {
     "name": "stderr",
     "output_type": "stream",
     "text": [
      "C:\\Users\\omars\\AppData\\Local\\Temp\\ipykernel_18132\\1180197386.py:1: FutureWarning: Downcasting behavior in `replace` is deprecated and will be removed in a future version. To retain the old behavior, explicitly call `result.infer_objects(copy=False)`. To opt-in to the future behavior, set `pd.set_option('future.no_silent_downcasting', True)`\n",
      "  DataFrame['likes'] = DataFrame['likes'].replace('', np.nan).astype(float)\n",
      "C:\\Users\\omars\\AppData\\Local\\Temp\\ipykernel_18132\\1180197386.py:2: FutureWarning: Downcasting behavior in `replace` is deprecated and will be removed in a future version. To retain the old behavior, explicitly call `result.infer_objects(copy=False)`. To opt-in to the future behavior, set `pd.set_option('future.no_silent_downcasting', True)`\n",
      "  DataFrame['shares'] = DataFrame['shares'].replace('', np.nan).astype(float)\n",
      "C:\\Users\\omars\\AppData\\Local\\Temp\\ipykernel_18132\\1180197386.py:3: FutureWarning: Downcasting behavior in `replace` is deprecated and will be removed in a future version. To retain the old behavior, explicitly call `result.infer_objects(copy=False)`. To opt-in to the future behavior, set `pd.set_option('future.no_silent_downcasting', True)`\n",
      "  DataFrame['comments'] = DataFrame['comments'].replace('', np.nan).astype(float)\n",
      "C:\\Users\\omars\\AppData\\Local\\Temp\\ipykernel_18132\\1180197386.py:4: FutureWarning: Downcasting behavior in `replace` is deprecated and will be removed in a future version. To retain the old behavior, explicitly call `result.infer_objects(copy=False)`. To opt-in to the future behavior, set `pd.set_option('future.no_silent_downcasting', True)`\n",
      "  DataFrame['views'] = DataFrame['views'].replace('', np.nan).astype(float)\n"
     ]
    }
   ],
   "source": [
    "DataFrame['likes'] = DataFrame['likes'].replace('', np.nan).astype(float)\n",
    "DataFrame['shares'] = DataFrame['shares'].replace('', np.nan).astype(float)\n",
    "DataFrame['comments'] = DataFrame['comments'].replace('', np.nan).astype(float)\n",
    "DataFrame['views'] = DataFrame['views'].replace('', np.nan).astype(float)\n"
   ]
  },
  {
   "cell_type": "markdown",
   "id": "a4b32df0-1931-42a9-bb9a-a4ef3384c754",
   "metadata": {},
   "source": [
    "## 1.What was the total number of likes, shares, comments, and views (for videos) over the year?\n"
   ]
  },
  {
   "cell_type": "code",
   "execution_count": 16,
   "id": "deb39ff1-f251-44d5-9e63-0a946aeb625a",
   "metadata": {},
   "outputs": [
    {
     "data": {
      "text/plain": [
       "likes        2569272.0\n",
       "shares        990595.0\n",
       "comments      609249.0\n",
       "views       13864001.0\n",
       "dtype: float64"
      ]
     },
     "execution_count": 16,
     "metadata": {},
     "output_type": "execute_result"
    }
   ],
   "source": [
    "total_engagement = DataFrame[[\"likes\", \"shares\", \"comments\", \"views\"]].sum()\n",
    "total_engagement"
   ]
  },
  {
   "cell_type": "markdown",
   "id": "4b361a1c-6319-40c8-a58c-02ee25b94c61",
   "metadata": {},
   "source": [
    "## 2.Which platform had the highest engagement? (engagement = likes + shares + comments)\n"
   ]
  },
  {
   "cell_type": "code",
   "execution_count": 19,
   "id": "3b3b3eca-832e-4a6b-bc22-c15ff97c68ec",
   "metadata": {},
   "outputs": [
    {
     "data": {
      "text/plain": [
       "'Instagram'"
      ]
     },
     "execution_count": 19,
     "metadata": {},
     "output_type": "execute_result"
    }
   ],
   "source": [
    "DataFrame[\"engagement\"] = DataFrame[\"likes\"] + DataFrame[\"shares\"] + DataFrame[\"comments\"]\n",
    "platform_engagement = DataFrame.groupby('platform')['engagement'].sum()\n",
    "highest_engagement_platform = platform_engagement.idxmax()\n",
    "highest_engagement_platform"
   ]
  },
  {
   "cell_type": "markdown",
   "id": "dfaac911-b477-4c0f-aa2c-ad43c76f36bc",
   "metadata": {},
   "source": [
    "## 3.What was the average number of likes, shares, comments, and views per post on each platform?\n"
   ]
  },
  {
   "cell_type": "code",
   "execution_count": 21,
   "id": "0af169f1-6e1d-46e7-89be-8e5f998369eb",
   "metadata": {},
   "outputs": [
    {
     "data": {
      "text/html": [
       "<div>\n",
       "<style scoped>\n",
       "    .dataframe tbody tr th:only-of-type {\n",
       "        vertical-align: middle;\n",
       "    }\n",
       "\n",
       "    .dataframe tbody tr th {\n",
       "        vertical-align: top;\n",
       "    }\n",
       "\n",
       "    .dataframe thead th {\n",
       "        text-align: right;\n",
       "    }\n",
       "</style>\n",
       "<table border=\"1\" class=\"dataframe\">\n",
       "  <thead>\n",
       "    <tr style=\"text-align: right;\">\n",
       "      <th></th>\n",
       "      <th>likes</th>\n",
       "      <th>shares</th>\n",
       "      <th>comments</th>\n",
       "      <th>views</th>\n",
       "    </tr>\n",
       "    <tr>\n",
       "      <th>platform</th>\n",
       "      <th></th>\n",
       "      <th></th>\n",
       "      <th></th>\n",
       "      <th></th>\n",
       "    </tr>\n",
       "  </thead>\n",
       "  <tbody>\n",
       "    <tr>\n",
       "      <th>Facebook</th>\n",
       "      <td>1289.982428</td>\n",
       "      <td>513.141494</td>\n",
       "      <td>311.160317</td>\n",
       "      <td>6984.239234</td>\n",
       "    </tr>\n",
       "    <tr>\n",
       "      <th>Instagram</th>\n",
       "      <td>1305.837278</td>\n",
       "      <td>497.372404</td>\n",
       "      <td>301.046062</td>\n",
       "      <td>6905.875556</td>\n",
       "    </tr>\n",
       "    <tr>\n",
       "      <th>NonExistingPlatform</th>\n",
       "      <td>1150.166667</td>\n",
       "      <td>515.833333</td>\n",
       "      <td>285.500000</td>\n",
       "      <td>6729.166667</td>\n",
       "    </tr>\n",
       "    <tr>\n",
       "      <th>Twitter</th>\n",
       "      <td>1274.994152</td>\n",
       "      <td>482.437775</td>\n",
       "      <td>305.857980</td>\n",
       "      <td>7013.258065</td>\n",
       "    </tr>\n",
       "  </tbody>\n",
       "</table>\n",
       "</div>"
      ],
      "text/plain": [
       "                           likes      shares    comments        views\n",
       "platform                                                             \n",
       "Facebook             1289.982428  513.141494  311.160317  6984.239234\n",
       "Instagram            1305.837278  497.372404  301.046062  6905.875556\n",
       "NonExistingPlatform  1150.166667  515.833333  285.500000  6729.166667\n",
       "Twitter              1274.994152  482.437775  305.857980  7013.258065"
      ]
     },
     "execution_count": 21,
     "metadata": {},
     "output_type": "execute_result"
    }
   ],
   "source": [
    "platform_averages = DataFrame.groupby('platform')[[\"likes\", \"shares\", \"comments\", \"views\"]].mean()\n",
    "platform_averages"
   ]
  },
  {
   "cell_type": "markdown",
   "id": "8cec71d9-31c6-4d8b-8f07-d03729f184e8",
   "metadata": {},
   "source": [
    "## 4.What was the total number of each type of post (video, image, text) on each platform?\n"
   ]
  },
  {
   "cell_type": "code",
   "execution_count": 23,
   "id": "dcc61193-3da2-427c-b4ff-c7f50cab5f25",
   "metadata": {},
   "outputs": [
    {
     "data": {
      "text/html": [
       "<div>\n",
       "<style scoped>\n",
       "    .dataframe tbody tr th:only-of-type {\n",
       "        vertical-align: middle;\n",
       "    }\n",
       "\n",
       "    .dataframe tbody tr th {\n",
       "        vertical-align: top;\n",
       "    }\n",
       "\n",
       "    .dataframe thead th {\n",
       "        text-align: right;\n",
       "    }\n",
       "</style>\n",
       "<table border=\"1\" class=\"dataframe\">\n",
       "  <thead>\n",
       "    <tr style=\"text-align: right;\">\n",
       "      <th>post_type</th>\n",
       "      <th>image</th>\n",
       "      <th>text</th>\n",
       "      <th>video</th>\n",
       "    </tr>\n",
       "    <tr>\n",
       "      <th>platform</th>\n",
       "      <th></th>\n",
       "      <th></th>\n",
       "      <th></th>\n",
       "    </tr>\n",
       "  </thead>\n",
       "  <tbody>\n",
       "    <tr>\n",
       "      <th>Facebook</th>\n",
       "      <td>218</td>\n",
       "      <td>204</td>\n",
       "      <td>209</td>\n",
       "    </tr>\n",
       "    <tr>\n",
       "      <th>Instagram</th>\n",
       "      <td>267</td>\n",
       "      <td>203</td>\n",
       "      <td>208</td>\n",
       "    </tr>\n",
       "    <tr>\n",
       "      <th>NonExistingPlatform</th>\n",
       "      <td>1</td>\n",
       "      <td>3</td>\n",
       "      <td>2</td>\n",
       "    </tr>\n",
       "    <tr>\n",
       "      <th>Twitter</th>\n",
       "      <td>249</td>\n",
       "      <td>219</td>\n",
       "      <td>217</td>\n",
       "    </tr>\n",
       "  </tbody>\n",
       "</table>\n",
       "</div>"
      ],
      "text/plain": [
       "post_type            image  text  video\n",
       "platform                               \n",
       "Facebook               218   204    209\n",
       "Instagram              267   203    208\n",
       "NonExistingPlatform      1     3      2\n",
       "Twitter                249   219    217"
      ]
     },
     "execution_count": 23,
     "metadata": {},
     "output_type": "execute_result"
    }
   ],
   "source": [
    "post_type_counts = DataFrame.groupby(['platform', 'post_type']).size().unstack()\n",
    "post_type_counts"
   ]
  },
  {
   "cell_type": "markdown",
   "id": "4ef5ef15-111d-4de7-abeb-372fe022a1b1",
   "metadata": {},
   "source": [
    "## 5.Which type of post had the highest average engagement?\n"
   ]
  },
  {
   "cell_type": "code",
   "execution_count": 29,
   "id": "33db9acd-1a8d-41f9-96c4-32236b682cfe",
   "metadata": {},
   "outputs": [
    {
     "data": {
      "text/plain": [
       "'text'"
      ]
     },
     "execution_count": 29,
     "metadata": {},
     "output_type": "execute_result"
    }
   ],
   "source": [
    "post_type_engagement = DataFrame.groupby('post_type')['engagement'].mean()\n",
    "post_type_engagement\n",
    "highest_engagement_post_type = post_type_engagement.idxmax()\n",
    "highest_engagement_post_type"
   ]
  },
  {
   "cell_type": "markdown",
   "id": "4f357db0-9f40-444c-9920-235cf008ceb5",
   "metadata": {},
   "source": [
    "## 6.What was the total engagement in each quarter of the year?"
   ]
  },
  {
   "cell_type": "code",
   "execution_count": 30,
   "id": "8832d867-ce92-4f13-ad40-8f374f1ed93b",
   "metadata": {},
   "outputs": [
    {
     "data": {
      "text/plain": [
       "quarter\n",
       "1    1025381.0\n",
       "2    1000644.0\n",
       "3     978372.0\n",
       "4    1131411.0\n",
       "Name: engagement, dtype: float64"
      ]
     },
     "execution_count": 30,
     "metadata": {},
     "output_type": "execute_result"
    }
   ],
   "source": [
    "DataFrame['quarter'] = DataFrame['date'].dt.quarter\n",
    "quarter_engagement = DataFrame.groupby('quarter')['engagement'].sum()\n",
    "quarter_engagement"
   ]
  },
  {
   "cell_type": "code",
   "execution_count": null,
   "id": "2afdc86c-6415-4b56-a79d-8336a070e410",
   "metadata": {},
   "outputs": [],
   "source": []
  }
 ],
 "metadata": {
  "kernelspec": {
   "display_name": "Python 3 (ipykernel)",
   "language": "python",
   "name": "python3"
  },
  "language_info": {
   "codemirror_mode": {
    "name": "ipython",
    "version": 3
   },
   "file_extension": ".py",
   "mimetype": "text/x-python",
   "name": "python",
   "nbconvert_exporter": "python",
   "pygments_lexer": "ipython3",
   "version": "3.12.2"
  }
 },
 "nbformat": 4,
 "nbformat_minor": 5
}
